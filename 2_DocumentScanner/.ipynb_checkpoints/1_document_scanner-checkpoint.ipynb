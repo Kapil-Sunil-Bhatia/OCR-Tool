{
 "cells": [
  {
   "cell_type": "code",
   "execution_count": 3,
   "id": "b0d32caf",
   "metadata": {},
   "outputs": [],
   "source": [
    "import numpy as np\n",
    "import cv2\n",
    "import matplotlib.pyplot as plt\n",
    "import imutils"
   ]
  },
  {
   "cell_type": "code",
   "execution_count": 20,
   "id": "2937ff24",
   "metadata": {},
   "outputs": [],
   "source": [
    "img_orig = cv2.imread('./images/004.jpg')"
   ]
  },
  {
   "cell_type": "code",
   "execution_count": 21,
   "id": "f278a1c5",
   "metadata": {},
   "outputs": [],
   "source": [
    "cv2.namedWindow('original',cv2.WINDOW_NORMAL)\n",
    "cv2.imshow('original',img_orig)\n",
    "cv2.waitKey()\n",
    "cv2.destroyAllWindows()"
   ]
  },
  {
   "cell_type": "markdown",
   "id": "4ad16765",
   "metadata": {},
   "source": [
    "### Scanning"
   ]
  },
  {
   "cell_type": "markdown",
   "id": "82854f65",
   "metadata": {},
   "source": [
    "#### 1. Resize the image and set aspect ratio"
   ]
  },
  {
   "cell_type": "code",
   "execution_count": 22,
   "id": "1c24e9f7",
   "metadata": {},
   "outputs": [],
   "source": [
    "def resizer(image,width=500):\n",
    "    # get widht and height\n",
    "    h,w,c = image.shape\n",
    "    \n",
    "    height = int((h/w)* width )\n",
    "    size = (width,height)\n",
    "    image = cv2.resize(image,(width,height))\n",
    "    return image, size"
   ]
  },
  {
   "cell_type": "code",
   "execution_count": 23,
   "id": "6acc1c13",
   "metadata": {},
   "outputs": [
    {
     "name": "stdout",
     "output_type": "stream",
     "text": [
      "(500, 375)\n"
     ]
    }
   ],
   "source": [
    "img_re,size = resizer(img_orig)\n",
    "print(size)\n",
    "cv2.imshow('Resize',img_re)\n",
    "cv2.waitKey()\n",
    "cv2.destroyAllWindows()"
   ]
  },
  {
   "cell_type": "markdown",
   "id": "094b5abb",
   "metadata": {},
   "source": [
    "#### 2. Image Processing\n",
    "1. Enhance\n",
    "2. Grayscale\n",
    "3. Blur\n",
    "4. Edge Detect\n",
    "5. Morphological transform\n",
    "6. Countors\n",
    "7. Find Four Points\n"
   ]
  },
  {
   "cell_type": "code",
   "execution_count": 24,
   "id": "1e61260c",
   "metadata": {},
   "outputs": [],
   "source": [
    "detail = cv2.detailEnhance(img_re, sigma_s = 20, sigma_r = 0.15)\n",
    "gray = cv2.cvtColor(detail,cv2.COLOR_BGR2GRAY)  # GRAYSCALE IMAGE\n",
    "blur = cv2.GaussianBlur(gray,(5,5),0)\\\n",
    "#edge Detect\n",
    "edge_image = cv2.Canny(blur,75,200)\n",
    "#morphological Transform\n",
    "kernel = np.ones((5,5),np.uint8)\n",
    "dilate = cv2.dilate(edge_image,kernel,iterations=1)\n",
    "closing = cv2.morphologyEx(dilate,cv2.MORPH_CLOSE,kernel)\n",
    "\n",
    "# find the contours\n",
    "contours , hire = cv2.findContours(closing,\n",
    "                                   cv2.RETR_LIST,\n",
    "                                   cv2.CHAIN_APPROX_SIMPLE)\n",
    "\n",
    "contours = sorted(contours, key=cv2.contourArea, reverse=True)\n",
    "for contour in contours:\n",
    "    peri = cv2.arcLength(contour,True)\n",
    "    approx = cv2.approxPolyDP(contour,0.02*peri, True)\n",
    "    \n",
    "    if len(approx) == 4:\n",
    "        four_points = np.squeeze(approx)\n",
    "        break\n",
    "        \n",
    "cv2.drawContours(img_re,[four_points],-1,(0,255,0),3)\n",
    "\n",
    "# find four points for original image\n",
    "multiplier = img_orig.shape[1] / size[0]\n",
    "four_points_orig = four_points * multiplier\n",
    "four_points_orig = four_points_orig.astype(int)\n"
   ]
  },
  {
   "cell_type": "code",
   "execution_count": 25,
   "id": "8d84f170",
   "metadata": {},
   "outputs": [],
   "source": [
    "from imutils.perspective import four_point_transform"
   ]
  },
  {
   "cell_type": "code",
   "execution_count": 26,
   "id": "baddfbdc",
   "metadata": {},
   "outputs": [],
   "source": [
    "wrap_image = four_point_transform(img_orig,four_points_orig)"
   ]
  },
  {
   "cell_type": "code",
   "execution_count": 27,
   "id": "56e41dcb",
   "metadata": {},
   "outputs": [],
   "source": [
    "cv2.imshow('wrap',wrap_image)\n",
    "cv2.waitKey(0)\n",
    "cv2.destroyAllWindows()"
   ]
  },
  {
   "cell_type": "markdown",
   "id": "cf01a9b5",
   "metadata": {},
   "source": [
    "### document scanner function"
   ]
  },
  {
   "cell_type": "code",
   "execution_count": 28,
   "id": "cf19e386",
   "metadata": {},
   "outputs": [],
   "source": [
    "def document_scanner(image):\n",
    "\n",
    "    img_re,size = resizer(image)\n",
    "    detail = cv2.detailEnhance(img_re,sigma_s = 20, sigma_r = 0.15)\n",
    "    gray = cv2.cvtColor(detail,cv2.COLOR_BGR2GRAY) # GRAYSCALE IMAGE\n",
    "    blur = cv2.GaussianBlur(gray,(5,5),0)\n",
    "    # edge detect\n",
    "    edge_image = cv2.Canny(blur,75,200)\n",
    "    # morphological transform\n",
    "    kernel = np.ones((5,5),np.uint8)\n",
    "    dilate = cv2.dilate(edge_image,kernel,iterations=1)\n",
    "    closing = cv2.morphologyEx(dilate,cv2.MORPH_CLOSE,kernel)\n",
    "\n",
    "    # find the contours\n",
    "    contours , hire = cv2.findContours(closing,\n",
    "                                       cv2.RETR_LIST,\n",
    "                                       cv2.CHAIN_APPROX_SIMPLE)\n",
    "\n",
    "    contours = sorted(contours, key=cv2.contourArea, reverse=True)\n",
    "    for contour in contours:\n",
    "        peri = cv2.arcLength(contour,True)\n",
    "        approx = cv2.approxPolyDP(contour,0.02*peri, True)\n",
    "\n",
    "        if len(approx) == 4:\n",
    "            four_points = np.squeeze(approx)\n",
    "            break\n",
    "\n",
    "    cv2.drawContours(img_re,[four_points],-1,(0,255,0),3)\n",
    "\n",
    "    # find four points for original image\n",
    "    multiplier = image.shape[1] / size[0]\n",
    "    four_points_orig = four_points * multiplier\n",
    "    four_points_orig = four_points_orig.astype(int)\n",
    "\n",
    "    wrap_image = four_point_transform(image,four_points_orig)\n",
    "    \n",
    "    return wrap_image, four_points_orig, img_re, closing"
   ]
  },
  {
   "cell_type": "code",
   "execution_count": 40,
   "id": "3d192734",
   "metadata": {},
   "outputs": [],
   "source": [
    "img = cv2.imread('./images/004.jpg')\n",
    "wrpimg, points, cnt_img, edgeimg = document_scanner(img)"
   ]
  },
  {
   "cell_type": "code",
   "execution_count": 41,
   "id": "9bf76312",
   "metadata": {},
   "outputs": [],
   "source": [
    "cv2.imshow('original',img)\n",
    "cv2.imshow('resize',cnt_img)\n",
    "cv2.imshow('edge',edgeimg)\n",
    "cv2.imshow('wrap',wrpimg)\n",
    "cv2.waitKey()\n",
    "cv2.destroyAllWindows()"
   ]
  },
  {
   "cell_type": "markdown",
   "id": "28fbc5b7",
   "metadata": {},
   "source": [
    "### Magic Color"
   ]
  },
  {
   "cell_type": "code",
   "execution_count": 42,
   "id": "65f74795",
   "metadata": {},
   "outputs": [],
   "source": [
    "def apply_brightness_contrast(input_img, brightness = 0, contrast = 0):\n",
    "    \n",
    "    if brightness != 0:\n",
    "        if brightness > 0:\n",
    "            shadow = brightness\n",
    "            highlight = 255\n",
    "        else:\n",
    "            shadow = 0\n",
    "            highlight = 255 + brightness\n",
    "        alpha_b = (highlight - shadow)/255\n",
    "        gamma_b = shadow\n",
    "        \n",
    "        buf = cv2.addWeighted(input_img, alpha_b, input_img, 0, gamma_b)\n",
    "    else:\n",
    "        buf = input_img.copy()\n",
    "    \n",
    "    if contrast != 0:\n",
    "        f = 131*(contrast + 127)/(127*(131-contrast))\n",
    "        alpha_c = f\n",
    "        gamma_c = 127*(1-f)\n",
    "        \n",
    "        buf = cv2.addWeighted(buf, alpha_c, buf, 0, gamma_c)\n",
    "\n",
    "    return buf"
   ]
  },
  {
   "cell_type": "code",
   "execution_count": 43,
   "id": "18ba7446",
   "metadata": {},
   "outputs": [],
   "source": [
    "rgb = cv2.cvtColor(wrpimg,cv2.COLOR_BGR2RGB)\n",
    "magic_image = apply_brightness_contrast(rgb,120,0)\n",
    "magic_image_c1 = apply_brightness_contrast(rgb,0,40)\n",
    "magic_image_c2 = apply_brightness_contrast(rgb,50,40)"
   ]
  },
  {
   "cell_type": "code",
   "execution_count": 44,
   "id": "a0524d42",
   "metadata": {},
   "outputs": [
    {
     "data": {
      "image/png": "[encoded data removed]",
      "text/plain": [
       "<Figure size 1500x1000 with 4 Axes>"
      ]
     },
     "metadata": {},
     "output_type": "display_data"
    }
   ],
   "source": [
    "plt.figure(figsize=(15,10))\n",
    "plt.subplot(2,2,1)\n",
    "plt.imshow(rgb)\n",
    "plt.title('Orignal')\n",
    "\n",
    "plt.subplot(2,2,2)\n",
    "plt.imshow(magic_image)\n",
    "plt.title('magic :B = 120')\n",
    "\n",
    "plt.subplot(2,2,3)\n",
    "plt.imshow(magic_image_c1)\n",
    "plt.title('magic :C = 40')\n",
    "\n",
    "\n",
    "plt.subplot(2,2,4)\n",
    "plt.imshow(magic_image_c2)\n",
    "plt.title('magic :B= 50, C = 40')\n",
    "\n",
    "plt.show()"
   ]
  },
  {
   "cell_type": "markdown",
   "id": "d95fa211",
   "metadata": {},
   "source": [
    "### Predictions"
   ]
  },
  {
   "cell_type": "code",
   "execution_count": 45,
   "id": "534175ac",
   "metadata": {},
   "outputs": [],
   "source": [
    "import predictions as pred"
   ]
  },
  {
   "cell_type": "code",
   "execution_count": 46,
   "id": "87013cc0",
   "metadata": {},
   "outputs": [
    {
     "name": "stdout",
     "output_type": "stream",
     "text": [
      "10\n"
     ]
    },
    {
     "ename": "KeyError",
     "evalue": "\"None of [Index(['start', 'label'], dtype='object')] are in the [columns]\"",
     "output_type": "error",
     "traceback": [
      "\u001b[1;31m----------------------------------------------------------------------\u001b[0m",
      "\u001b[1;31mKeyError\u001b[0m                             Traceback (most recent call last)",
      "Cell \u001b[1;32mIn[46], line 1\u001b[0m\n\u001b[1;32m----> 1\u001b[0m img_bb, results \u001b[38;5;241m=\u001b[39m \u001b[43mpred\u001b[49m\u001b[38;5;241;43m.\u001b[39;49m\u001b[43mgetPredictions\u001b[49m\u001b[43m(\u001b[49m\u001b[43mmagic_image_c2\u001b[49m\u001b[43m)\u001b[49m\n",
      "File \u001b[1;32mD:\\kapil somaiya study sem 5 offline\\minor-project\\2_DocumentScanner\\predictions.py:92\u001b[0m, in \u001b[0;36mgetPredictions\u001b[1;34m(image)\u001b[0m\n\u001b[0;32m     88\u001b[0m datafram_tokens \u001b[38;5;241m=\u001b[39m pd\u001b[38;5;241m.\u001b[39mDataFrame(docjson[\u001b[38;5;124m'\u001b[39m\u001b[38;5;124mtokens\u001b[39m\u001b[38;5;124m'\u001b[39m])\n\u001b[0;32m     89\u001b[0m datafram_tokens[\u001b[38;5;124m'\u001b[39m\u001b[38;5;124mtoken\u001b[39m\u001b[38;5;124m'\u001b[39m] \u001b[38;5;241m=\u001b[39m datafram_tokens[[\u001b[38;5;124m'\u001b[39m\u001b[38;5;124mstart\u001b[39m\u001b[38;5;124m'\u001b[39m, \u001b[38;5;124m'\u001b[39m\u001b[38;5;124mend\u001b[39m\u001b[38;5;124m'\u001b[39m]]\u001b[38;5;241m.\u001b[39mapply(\n\u001b[0;32m     90\u001b[0m     \u001b[38;5;28;01mlambda\u001b[39;00m x: doc_text[x[\u001b[38;5;241m0\u001b[39m]:x[\u001b[38;5;241m1\u001b[39m]], axis\u001b[38;5;241m=\u001b[39m\u001b[38;5;241m1\u001b[39m)\n\u001b[1;32m---> 92\u001b[0m right_table \u001b[38;5;241m=\u001b[39m \u001b[43mpd\u001b[49m\u001b[38;5;241;43m.\u001b[39;49m\u001b[43mDataFrame\u001b[49m\u001b[43m(\u001b[49m\u001b[43mdocjson\u001b[49m\u001b[43m[\u001b[49m\u001b[38;5;124;43m'\u001b[39;49m\u001b[38;5;124;43ments\u001b[39;49m\u001b[38;5;124;43m'\u001b[39;49m\u001b[43m]\u001b[49m\u001b[43m)\u001b[49m\u001b[43m[\u001b[49m\u001b[43m[\u001b[49m\u001b[38;5;124;43m'\u001b[39;49m\u001b[38;5;124;43mstart\u001b[39;49m\u001b[38;5;124;43m'\u001b[39;49m\u001b[43m,\u001b[49m\u001b[43m \u001b[49m\u001b[38;5;124;43m'\u001b[39;49m\u001b[38;5;124;43mlabel\u001b[39;49m\u001b[38;5;124;43m'\u001b[39;49m\u001b[43m]\u001b[49m\u001b[43m]\u001b[49m\n\u001b[0;32m     93\u001b[0m datafram_tokens \u001b[38;5;241m=\u001b[39m pd\u001b[38;5;241m.\u001b[39mmerge(\n\u001b[0;32m     94\u001b[0m     datafram_tokens, right_table, how\u001b[38;5;241m=\u001b[39m\u001b[38;5;124m'\u001b[39m\u001b[38;5;124mleft\u001b[39m\u001b[38;5;124m'\u001b[39m, on\u001b[38;5;241m=\u001b[39m\u001b[38;5;124m'\u001b[39m\u001b[38;5;124mstart\u001b[39m\u001b[38;5;124m'\u001b[39m)\n\u001b[0;32m     95\u001b[0m datafram_tokens\u001b[38;5;241m.\u001b[39mfillna(\u001b[38;5;124m'\u001b[39m\u001b[38;5;124mO\u001b[39m\u001b[38;5;124m'\u001b[39m, inplace\u001b[38;5;241m=\u001b[39m\u001b[38;5;28;01mTrue\u001b[39;00m)\n",
      "File \u001b[1;32mD:\\kapil somaiya study sem 5 offline\\minor-project\\docuscan\\Lib\\site-packages\\pandas\\core\\frame.py:3902\u001b[0m, in \u001b[0;36mDataFrame.__getitem__\u001b[1;34m(self, key)\u001b[0m\n\u001b[0;32m   3900\u001b[0m     \u001b[38;5;28;01mif\u001b[39;00m is_iterator(key):\n\u001b[0;32m   3901\u001b[0m         key \u001b[38;5;241m=\u001b[39m \u001b[38;5;28mlist\u001b[39m(key)\n\u001b[1;32m-> 3902\u001b[0m     indexer \u001b[38;5;241m=\u001b[39m \u001b[38;5;28;43mself\u001b[39;49m\u001b[38;5;241;43m.\u001b[39;49m\u001b[43mcolumns\u001b[49m\u001b[38;5;241;43m.\u001b[39;49m\u001b[43m_get_indexer_strict\u001b[49m\u001b[43m(\u001b[49m\u001b[43mkey\u001b[49m\u001b[43m,\u001b[49m\u001b[43m \u001b[49m\u001b[38;5;124;43m\"\u001b[39;49m\u001b[38;5;124;43mcolumns\u001b[39;49m\u001b[38;5;124;43m\"\u001b[39;49m\u001b[43m)\u001b[49m[\u001b[38;5;241m1\u001b[39m]\n\u001b[0;32m   3904\u001b[0m \u001b[38;5;66;03m# take() does not accept boolean indexers\u001b[39;00m\n\u001b[0;32m   3905\u001b[0m \u001b[38;5;28;01mif\u001b[39;00m \u001b[38;5;28mgetattr\u001b[39m(indexer, \u001b[38;5;124m\"\u001b[39m\u001b[38;5;124mdtype\u001b[39m\u001b[38;5;124m\"\u001b[39m, \u001b[38;5;28;01mNone\u001b[39;00m) \u001b[38;5;241m==\u001b[39m \u001b[38;5;28mbool\u001b[39m:\n",
      "File \u001b[1;32mD:\\kapil somaiya study sem 5 offline\\minor-project\\docuscan\\Lib\\site-packages\\pandas\\core\\indexes\\base.py:6114\u001b[0m, in \u001b[0;36mIndex._get_indexer_strict\u001b[1;34m(self, key, axis_name)\u001b[0m\n\u001b[0;32m   6111\u001b[0m \u001b[38;5;28;01melse\u001b[39;00m:\n\u001b[0;32m   6112\u001b[0m     keyarr, indexer, new_indexer \u001b[38;5;241m=\u001b[39m \u001b[38;5;28mself\u001b[39m\u001b[38;5;241m.\u001b[39m_reindex_non_unique(keyarr)\n\u001b[1;32m-> 6114\u001b[0m \u001b[38;5;28;43mself\u001b[39;49m\u001b[38;5;241;43m.\u001b[39;49m\u001b[43m_raise_if_missing\u001b[49m\u001b[43m(\u001b[49m\u001b[43mkeyarr\u001b[49m\u001b[43m,\u001b[49m\u001b[43m \u001b[49m\u001b[43mindexer\u001b[49m\u001b[43m,\u001b[49m\u001b[43m \u001b[49m\u001b[43maxis_name\u001b[49m\u001b[43m)\u001b[49m\n\u001b[0;32m   6116\u001b[0m keyarr \u001b[38;5;241m=\u001b[39m \u001b[38;5;28mself\u001b[39m\u001b[38;5;241m.\u001b[39mtake(indexer)\n\u001b[0;32m   6117\u001b[0m \u001b[38;5;28;01mif\u001b[39;00m \u001b[38;5;28misinstance\u001b[39m(key, Index):\n\u001b[0;32m   6118\u001b[0m     \u001b[38;5;66;03m# GH 42790 - Preserve name from an Index\u001b[39;00m\n",
      "File \u001b[1;32mD:\\kapil somaiya study sem 5 offline\\minor-project\\docuscan\\Lib\\site-packages\\pandas\\core\\indexes\\base.py:6175\u001b[0m, in \u001b[0;36mIndex._raise_if_missing\u001b[1;34m(self, key, indexer, axis_name)\u001b[0m\n\u001b[0;32m   6173\u001b[0m     \u001b[38;5;28;01mif\u001b[39;00m use_interval_msg:\n\u001b[0;32m   6174\u001b[0m         key \u001b[38;5;241m=\u001b[39m \u001b[38;5;28mlist\u001b[39m(key)\n\u001b[1;32m-> 6175\u001b[0m     \u001b[38;5;28;01mraise\u001b[39;00m \u001b[38;5;167;01mKeyError\u001b[39;00m(\u001b[38;5;124mf\u001b[39m\u001b[38;5;124m\"\u001b[39m\u001b[38;5;124mNone of [\u001b[39m\u001b[38;5;132;01m{\u001b[39;00mkey\u001b[38;5;132;01m}\u001b[39;00m\u001b[38;5;124m] are in the [\u001b[39m\u001b[38;5;132;01m{\u001b[39;00maxis_name\u001b[38;5;132;01m}\u001b[39;00m\u001b[38;5;124m]\u001b[39m\u001b[38;5;124m\"\u001b[39m)\n\u001b[0;32m   6177\u001b[0m not_found \u001b[38;5;241m=\u001b[39m \u001b[38;5;28mlist\u001b[39m(ensure_index(key)[missing_mask\u001b[38;5;241m.\u001b[39mnonzero()[\u001b[38;5;241m0\u001b[39m]]\u001b[38;5;241m.\u001b[39munique())\n\u001b[0;32m   6178\u001b[0m \u001b[38;5;28;01mraise\u001b[39;00m \u001b[38;5;167;01mKeyError\u001b[39;00m(\u001b[38;5;124mf\u001b[39m\u001b[38;5;124m\"\u001b[39m\u001b[38;5;132;01m{\u001b[39;00mnot_found\u001b[38;5;132;01m}\u001b[39;00m\u001b[38;5;124m not in index\u001b[39m\u001b[38;5;124m\"\u001b[39m)\n",
      "\u001b[1;31mKeyError\u001b[0m: \"None of [Index(['start', 'label'], dtype='object')] are in the [columns]\""
     ]
    }
   ],
   "source": [
    "img_bb, results = pred.getPredictions(magic_image_c2)"
   ]
  },
  {
   "cell_type": "code",
   "execution_count": null,
   "id": "e82afa15",
   "metadata": {},
   "outputs": [],
   "source": [
    "cv2.namedWindow('prediction',cv2.WINDOW_NORMAL)\n",
    "cv2.imshow('prediction',img_bb)\n",
    "cv2.waitKey(0)\n",
    "cv2.destroyAllWindows()"
   ]
  },
  {
   "cell_type": "code",
   "execution_count": 39,
   "id": "9b1e9c1d",
   "metadata": {},
   "outputs": [
    {
     "data": {
      "text/plain": [
       "{'STU': [],\n",
       " 'DES': [' Worlnwell Internship Certificate This Is',\n",
       "  'Thad ',\n",
       "  'Has Successfully Completed Internship Program Inweb Development Back From',\n",
       "  'During The',\n",
       "  'Hardworking And Diligent'],\n",
       " 'COI': [],\n",
       " 'DAT': [],\n",
       " 'NCER': [],\n",
       " 'TYP': []}"
      ]
     },
     "execution_count": 39,
     "metadata": {},
     "output_type": "execute_result"
    }
   ],
   "source": [
    "results"
   ]
  }
 ],
 "metadata": {
  "kernelspec": {
   "display_name": "Python 3 (ipykernel)",
   "language": "python",
   "name": "python3"
  },
  "language_info": {
   "codemirror_mode": {
    "name": "ipython",
    "version": 3
   },
   "file_extension": ".py",
   "mimetype": "text/x-python",
   "name": "python",
   "nbconvert_exporter": "python",
   "pygments_lexer": "ipython3",
   "version": "3.11.6"
  }
 },
 "nbformat": 4,
 "nbformat_minor": 5
}
