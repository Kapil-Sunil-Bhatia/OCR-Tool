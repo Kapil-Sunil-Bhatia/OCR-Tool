{
 "cells": [
  {
   "cell_type": "code",
   "execution_count": 1,
   "id": "26765d1a-c76c-46a3-b706-d7e98fedd0a5",
   "metadata": {},
   "outputs": [],
   "source": [
    "import cv2\n",
    "import predictions as pred"
   ]
  },
  {
   "cell_type": "code",
   "execution_count": 2,
   "id": "de6cc334-8d05-4a83-98a6-3fc8c9265e1f",
   "metadata": {},
   "outputs": [],
   "source": [
    "img = cv2.imread('./data/056.jpeg')\n",
    "\n",
    "cv2.namedWindow('original',cv2.WINDOW_NORMAL)\n",
    "cv2.imshow('original',img)\n",
    "cv2.waitKey(0)\n",
    "cv2.destroyAllWindows()"
   ]
  },
  {
   "cell_type": "code",
   "execution_count": 3,
   "id": "8670c49f-e63c-4be3-bfdd-7fc79b3b2b14",
   "metadata": {},
   "outputs": [
    {
     "name": "stdout",
     "output_type": "stream",
     "text": [
      "Certificate no UC-4228b310-7cde-42de-a5b8-61b67d3ca658 U a e mM Certificate url ude.my/UC-4228b310-7cde-42de-a5b8-61b67d3ca658 Reference Number 0004 CERTIFICATE OF COMPLETION Data Warehouse Fundamentals for Beginners Instructors Alan Simon Priyanshu Singh Date March 15, 2022 Length 5 total hours\n",
      "{'STU': ['Priyanshu Singh'], 'DES': ['Certificate No Ucb', 'Certificate Url Udemyucbcdedeabbdca Reference Number ', 'Data Warehouse Fundamentals For Beginners Instructors', 'Length  Total Hours'], 'COI': ['U A E Mm'], 'DAT': ['datemarch152022'], 'NCER': ['alansimon'], 'TYP': ['CertificateOfCompletion']}\n"
     ]
    }
   ],
   "source": [
    "img_results, entities = pred.getPredictions(img)\n",
    "\n",
    "print(entities)\n",
    "cv2.namedWindow('predictions',cv2.WINDOW_NORMAL)\n",
    "cv2.imshow('predictions',img_results)\n",
    "cv2.waitKey(0)\n",
    "cv2.destroyAllWindows()"
   ]
  },
  {
   "cell_type": "code",
   "execution_count": null,
   "id": "68fef3e5-9e0a-4873-a916-207aa71e564d",
   "metadata": {},
   "outputs": [],
   "source": []
  }
 ],
 "metadata": {
  "kernelspec": {
   "display_name": "Python 3 (ipykernel)",
   "language": "python",
   "name": "python3"
  },
  "language_info": {
   "codemirror_mode": {
    "name": "ipython",
    "version": 3
   },
   "file_extension": ".py",
   "mimetype": "text/x-python",
   "name": "python",
   "nbconvert_exporter": "python",
   "pygments_lexer": "ipython3",
   "version": "3.11.6"
  }
 },
 "nbformat": 4,
 "nbformat_minor": 5
}
