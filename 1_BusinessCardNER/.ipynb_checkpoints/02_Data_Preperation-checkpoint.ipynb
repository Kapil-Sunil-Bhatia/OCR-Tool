{
 "cells": [
  {
   "cell_type": "code",
   "execution_count": 1,
   "id": "c0ad4539-5446-477b-a71f-112da10fc6c3",
   "metadata": {},
   "outputs": [],
   "source": [
    "import numpy as np\n",
    "import pandas as pd\n",
    "import cv2\n",
    "import pytesseract\n",
    "\n",
    "import os\n",
    "from glob import glob\n",
    "from tqdm import tqdm\n",
    "\n",
    "import warnings\n",
    "warnings.filterwarnings('ignore')"
   ]
  },
  {
   "cell_type": "code",
   "execution_count": 2,
   "id": "9a8ca876-9722-4194-9a89-f9b9f72938d1",
   "metadata": {},
   "outputs": [],
   "source": [
    "imgPaths = glob('../Selected/*.jpeg')"
   ]
  },
  {
   "cell_type": "code",
   "execution_count": 7,
   "id": "e611ccc0-c13b-4119-b3a2-f050ff9284cf",
   "metadata": {},
   "outputs": [
    {
     "name": "stdout",
     "output_type": "stream",
     "text": [
      "../Selected\\000.jpeg\n",
      "000.jpeg\n"
     ]
    }
   ],
   "source": [
    "imgPath = imgPaths[0]\n",
    "print(imgPath)\n",
    "_, filename = os.path.split(imgPath)\n",
    "print(filename)"
   ]
  },
  {
   "cell_type": "code",
   "execution_count": null,
   "id": "7511b5c3-e753-4e76-83b2-76b402cacbe5",
   "metadata": {},
   "outputs": [],
   "source": [
    "imgPath = imgPaths[0]\n",
    "_, filename = os.path.split(imgPath)\n",
    "# extract data and text\n",
    "image = cv2.imread(imgPath)\n",
    "data = pytesseract.image_to_data(image)\n",
    "dataList = list(map(lambda x: x.split('\\t'),data.split('\\n')))\n",
    "df = pd.DataFrame(dataList[1:],columns=dataList[0])"
   ]
  },
  {
   "cell_type": "code",
   "execution_count": null,
   "id": "79bd4e44-2f55-4894-8c5d-984975261f70",
   "metadata": {},
   "outputs": [],
   "source": []
  },
  {
   "cell_type": "code",
   "execution_count": null,
   "id": "5b9844b4-db1a-42df-8040-ad73ebcc8452",
   "metadata": {},
   "outputs": [],
   "source": []
  },
  {
   "cell_type": "code",
   "execution_count": null,
   "id": "887cf4ee-045e-4376-9701-1261380a8778",
   "metadata": {},
   "outputs": [],
   "source": []
  },
  {
   "cell_type": "code",
   "execution_count": null,
   "id": "cbdaaa88-d5a3-4910-afce-f49469cfda91",
   "metadata": {},
   "outputs": [],
   "source": []
  },
  {
   "cell_type": "code",
   "execution_count": null,
   "id": "01de17ea-e5fb-4c72-b88c-8ebad570fd4a",
   "metadata": {},
   "outputs": [],
   "source": []
  },
  {
   "cell_type": "code",
   "execution_count": null,
   "id": "397d5512-85be-4c35-8cf5-d11bb1365cd0",
   "metadata": {},
   "outputs": [],
   "source": []
  }
 ],
 "metadata": {
  "kernelspec": {
   "display_name": "Python 3 (ipykernel)",
   "language": "python",
   "name": "python3"
  },
  "language_info": {
   "codemirror_mode": {
    "name": "ipython",
    "version": 3
   },
   "file_extension": ".py",
   "mimetype": "text/x-python",
   "name": "python",
   "nbconvert_exporter": "python",
   "pygments_lexer": "ipython3",
   "version": "3.11.5"
  }
 },
 "nbformat": 4,
 "nbformat_minor": 5
}
